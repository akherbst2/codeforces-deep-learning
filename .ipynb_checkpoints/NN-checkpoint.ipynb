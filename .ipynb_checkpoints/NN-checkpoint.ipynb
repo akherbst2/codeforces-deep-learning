{
 "cells": [
  {
   "cell_type": "code",
   "execution_count": 1,
   "metadata": {
    "collapsed": false
   },
   "outputs": [],
   "source": [
    "%matplotlib inline\n",
    "%load_ext autoreload\n",
    "%autoreload 2\n",
    "from __future__ import division\n",
    "import numpy as np\n",
    "import pylab as plt\n",
    "from mlp import mlp_train, mlp_predict, logistic, nll\n",
    "from crossval import cross_validate\n",
    "\n",
    "from pca import pca\n",
    "import pandas"
   ]
  },
  {
   "cell_type": "code",
   "execution_count": 2,
   "metadata": {
    "collapsed": false
   },
   "outputs": [],
   "source": [
    "df = pandas.read_csv('words_all.csv')\n",
    "allTags = list(set(df['tag'].str.cat(sep=' ').split(' ')))\n",
    "labels = [allTags.index(i) for i in df['tag']]"
   ]
  },
  {
   "cell_type": "code",
   "execution_count": 3,
   "metadata": {
    "collapsed": false
   },
   "outputs": [],
   "source": [
    "from sklearn.feature_extraction.text import TfidfVectorizer\n",
    "import scipy\n",
    "\n",
    "vectorizer = TfidfVectorizer()\n",
    "matrix = vectorizer.fit_transform(df['main_text'])"
   ]
  },
  {
   "cell_type": "code",
   "execution_count": null,
   "metadata": {
    "collapsed": false
   },
   "outputs": [
    {
     "name": "stdout",
     "output_type": "stream",
     "text": [
      "(1601,)\n"
     ]
    }
   ],
   "source": [
    "\n",
    "train_data = matrix.T[:, :6403]\n",
    "train_labels = np.array(labels)[:6403]\n",
    "test_data = matrix.T[:, 6403:]\n",
    "test_labels = np.array(labels)[6403:]\n",
    "print(test_labels.shape)"
   ]
  },
  {
   "cell_type": "code",
   "execution_count": null,
   "metadata": {
    "collapsed": false
   },
   "outputs": [],
   "source": [
    "# run PCA\n",
    "from sklearn.decomposition import PCA\n",
    "pca = PCA(n_components=2)\n",
    "pca.fit(matrix.T.toarray())\n",
    "print(pca.explained_variance_ratio_)"
   ]
  },
  {
   "cell_type": "code",
   "execution_count": null,
   "metadata": {
    "collapsed": false
   },
   "outputs": [],
   "source": [
    "structures = [[1], [4], [2, 2], [2, 4], [4, 4]]\n",
    "lambda_vals = [0.01, 0.1, 1]\n",
    "\n",
    "params = {\n",
    "    'max_iter': 400,\n",
    "    'squash_function': logistic,\n",
    "    'loss_function': nll,\n",
    "    'num_hidden_units': [4],\n",
    "    'lambda': .1\n",
    "}\n",
    "\n",
    "best_params = []\n",
    "best_score = 0\n",
    "\n",
    "# num_folds = 4\n",
    "\n",
    "# for j in range(len(structures)):\n",
    "#     for k in range(len(lambda_vals)):\n",
    "#         params['num_hidden_units']= structures[j]\n",
    "#         params['lambda'] = lambda_vals[k]\n",
    "\n",
    "#         cv_score, models = cross_validate(mlp_train, mlp_predict, train_data.toarray(), train_labels, num_folds, params)\n",
    "#         print('done')\n",
    "#         if cv_score > best_score:\n",
    "#             best_score = cv_score\n",
    "#             best_params = copy.copy(params)\n",
    "            \n",
    "\n",
    "mlp_model = mlp_train(train_data.toarray(), train_labels, params)"
   ]
  },
  {
   "cell_type": "code",
   "execution_count": null,
   "metadata": {
    "collapsed": false
   },
   "outputs": [],
   "source": [
    "\n",
    "predictions, _, _, _ = mlp_predict(test_data.toarray(), mlp_model)\n",
    "test_accuracy = np.mean(predictions == test_labels)\n",
    "\n",
    "print(\"MLP had test accuracy %f on Dataset\" % test_accuracy)\n",
    "print(\"with structure %s and lambda = %f\" % (repr(best_params['num_hidden_units']), best_params['lambda']))"
   ]
  },
  {
   "cell_type": "code",
   "execution_count": null,
   "metadata": {
    "collapsed": true
   },
   "outputs": [],
   "source": []
  },
  {
   "cell_type": "code",
   "execution_count": null,
   "metadata": {
    "collapsed": true
   },
   "outputs": [],
   "source": []
  },
  {
   "cell_type": "code",
   "execution_count": null,
   "metadata": {
    "collapsed": true
   },
   "outputs": [],
   "source": []
  }
 ],
 "metadata": {
  "kernelspec": {
   "display_name": "Python 3",
   "language": "python",
   "name": "python3"
  },
  "language_info": {
   "codemirror_mode": {
    "name": "ipython",
    "version": 3
   },
   "file_extension": ".py",
   "mimetype": "text/x-python",
   "name": "python",
   "nbconvert_exporter": "python",
   "pygments_lexer": "ipython3",
   "version": "3.6.0"
  }
 },
 "nbformat": 4,
 "nbformat_minor": 2
}
